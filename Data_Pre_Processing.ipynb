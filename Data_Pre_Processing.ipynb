{
  "nbformat": 4,
  "nbformat_minor": 0,
  "metadata": {
    "colab": {
      "name": "Data Pre-Processing.ipynb",
      "provenance": [],
      "collapsed_sections": [],
      "mount_file_id": "1b0-Vb8--5dgPLAxzWE4lekKCo4SK0tgi",
      "authorship_tag": "ABX9TyPvw+Lu1WnIm92qEQNxYOcN",
      "include_colab_link": true
    },
    "kernelspec": {
      "display_name": "Python 3",
      "name": "python3"
    }
  },
  "cells": [
    {
      "cell_type": "markdown",
      "metadata": {
        "id": "view-in-github",
        "colab_type": "text"
      },
      "source": [
        "<a href=\"https://colab.research.google.com/github/AtishayJain-AJ/DeepWAG/blob/master/Data_Pre_Processing.ipynb\" target=\"_parent\"><img src=\"https://colab.research.google.com/assets/colab-badge.svg\" alt=\"Open In Colab\"/></a>"
      ]
    },
    {
      "cell_type": "code",
      "metadata": {
        "id": "HdA2SEQfmGjz"
      },
      "source": [
        "# !pip install biopython #Install biopython"
      ],
      "execution_count": null,
      "outputs": []
    },
    {
      "cell_type": "code",
      "metadata": {
        "id": "umjx63ec7fK_"
      },
      "source": [
        "dir = \"/content/drive/My Drive/bacteria data/ofloxacin/\"  # Directory of the antibiotic"
      ],
      "execution_count": null,
      "outputs": []
    },
    {
      "cell_type": "code",
      "metadata": {
        "id": "AtMWS27w767z"
      },
      "source": [
        "\n",
        "import os\n",
        "import numpy as np\n",
        "from Bio import SeqIO\n",
        "import pickle as p"
      ],
      "execution_count": null,
      "outputs": []
    },
    {
      "cell_type": "code",
      "metadata": {
        "id": "L5f628BNs6E2"
      },
      "source": [
        "k = 31\n",
        "\n",
        "kmer_exist_dict = {}"
      ],
      "execution_count": null,
      "outputs": []
    },
    {
      "cell_type": "code",
      "metadata": {
        "id": "5A36w_cQtGZu"
      },
      "source": [
        "def kmer_to_number(kmer):\n",
        "  kmer = kmer.upper()\n",
        "  base4 = \"\"\n",
        "  d = {\"A\" : \"0\", \"C\": \"1\", \"G\": \"2\", \"T\": \"3\"}\n",
        "  if 'N' in kmer:\n",
        "    return -1\n",
        "  else:\n",
        "    for i in kmer:\n",
        "      base4 = base4 + d[i]\n",
        "\n",
        "    return int(base4, 4)"
      ],
      "execution_count": null,
      "outputs": []
    },
    {
      "cell_type": "code",
      "metadata": {
        "id": "t9Oz9LR8X-n8"
      },
      "source": [
        "sus_dir = dir + \"Susceptible/\"\n",
        "f = os.listdir(sus_dir)\n",
        "sus_files = []\n",
        "for i in f:\n",
        "  if i.endswith(\"fna\"):\n",
        "    sus_files.append(i)\n",
        "\n",
        "sus_no = 0"
      ],
      "execution_count": null,
      "outputs": []
    },
    {
      "cell_type": "code",
      "metadata": {
        "id": "e5WnGhUSWaeU"
      },
      "source": [
        "print(len(f), len(sus_files))"
      ],
      "execution_count": null,
      "outputs": []
    },
    {
      "cell_type": "code",
      "metadata": {
        "id": "qJA3nAXKsUkP"
      },
      "source": [
        "\n",
        "for file in sus_files:\n",
        "  sus_no += 1\n",
        "  file_name = os.path.join(sus_dir, file)\n",
        "  with open(file_name, \"rU\") as handle:\n",
        "    for record in SeqIO.parse(handle, \"fasta\"):\n",
        "      seq = record.seq\n",
        "      for j in range(len(seq) - k + 1):\n",
        "        kmer_number = kmer_to_number(seq[j:j+k])\n",
        "        if kmer_number == -1:\n",
        "          continue\n",
        "        #kmer_exist[i, kmer_number] = 1\n",
        "        if kmer_number in kmer_exist_dict:\n",
        "          if sus_no - 1 not in kmer_exist_dict[kmer_number]:\n",
        "            kmer_exist_dict[kmer_number].append(sus_no - 1)\n",
        "        else:\n",
        "          kmer_exist_dict[kmer_number] = [sus_no - 1]"
      ],
      "execution_count": null,
      "outputs": []
    },
    {
      "cell_type": "code",
      "metadata": {
        "id": "Umajw7QNXCE4"
      },
      "source": [
        "res_dir = dir + \"Resistant/\"\n",
        "f = os.listdir(res_dir)\n",
        "res_files = []\n",
        "for i in f:\n",
        "  if i.endswith(\"fna\"):\n",
        "    res_files.append(i)\n",
        "\n",
        "res_no = 0"
      ],
      "execution_count": null,
      "outputs": []
    },
    {
      "cell_type": "code",
      "metadata": {
        "id": "guj7s4sSYNRx"
      },
      "source": [
        "print(len(res_files))"
      ],
      "execution_count": null,
      "outputs": []
    },
    {
      "cell_type": "code",
      "metadata": {
        "id": "cREV4YdXmmTQ"
      },
      "source": [
        "#resistant_sequences = []\n",
        "\n",
        "for file in res_files:\n",
        "  res_no += 1\n",
        "  file_name = os.path.join(res_dir, file)\n",
        "  with open(file_name, \"rU\") as handle:\n",
        "    for record in SeqIO.parse(handle, \"fasta\"):\n",
        "      seq = record.seq\n",
        "      for j in range(len(seq) - k + 1):\n",
        "        kmer_number = kmer_to_number(seq[j:j+k])\n",
        "        if kmer_number == -1:\n",
        "          continue\n",
        "        #kmer_exist[i, kmer_number] = 1\n",
        "        if kmer_number in kmer_exist_dict:\n",
        "          if sus_no + res_no - 1 not in kmer_exist_dict[kmer_number]:\n",
        "            kmer_exist_dict[kmer_number].append(sus_no + res_no - 1)\n",
        "        else:\n",
        "          kmer_exist_dict[kmer_number] = [sus_no + res_no - 1]\n",
        "            \n",
        "       \n",
        "\n"
      ],
      "execution_count": null,
      "outputs": []
    },
    {
      "cell_type": "code",
      "metadata": {
        "id": "C1DCeHh8zd40"
      },
      "source": [
        "kmer_reduced_dict = {}"
      ],
      "execution_count": null,
      "outputs": []
    },
    {
      "cell_type": "code",
      "metadata": {
        "id": "VZZ02DT9xNQK"
      },
      "source": [
        "seq_no = sus_no + res_no"
      ],
      "execution_count": null,
      "outputs": []
    },
    {
      "cell_type": "code",
      "metadata": {
        "id": "nKeZJnN7zg0P"
      },
      "source": [
        "threshold = seq_no//100\n",
        "for i in kmer_exist_dict:\n",
        "  if threshold < len(kmer_exist_dict[i]) < seq_no - threshold:\n",
        "    kmer_reduced_dict[i] = list(kmer_exist_dict[i])"
      ],
      "execution_count": null,
      "outputs": []
    },
    {
      "cell_type": "code",
      "metadata": {
        "id": "ZqCIYYm00Cwj"
      },
      "source": [
        "print(len(kmer_reduced_dict))"
      ],
      "execution_count": null,
      "outputs": []
    },
    {
      "cell_type": "code",
      "metadata": {
        "id": "AP6rPEiA0LMc"
      },
      "source": [
        "equivalent_kmers = []"
      ],
      "execution_count": null,
      "outputs": []
    },
    {
      "cell_type": "code",
      "metadata": {
        "id": "67HQ0Y0W1W46"
      },
      "source": [
        "reduced_kmers_list = list(kmer_reduced_dict.keys())"
      ],
      "execution_count": null,
      "outputs": []
    },
    {
      "cell_type": "code",
      "metadata": {
        "id": "KIgkkM2i1Xny"
      },
      "source": [
        "equivalent_kmers.append([reduced_kmers_list[0]])"
      ],
      "execution_count": null,
      "outputs": []
    },
    {
      "cell_type": "code",
      "metadata": {
        "id": "CHpEh1l-1XqK"
      },
      "source": [
        "for i in reduced_kmers_list[1:]:\n",
        "  flag = 0\n",
        "  for j in equivalent_kmers:\n",
        "    if kmer_reduced_dict[i] == kmer_reduced_dict[j[0]]:\n",
        "      j.append(i)\n",
        "      flag = 1\n",
        "      break\n",
        "  if flag == 0:\n",
        "    equivalent_kmers.append([i])"
      ],
      "execution_count": null,
      "outputs": []
    },
    {
      "cell_type": "code",
      "metadata": {
        "id": "B4PUWxmx5wYr"
      },
      "source": [
        "print(len(equivalent_kmers))"
      ],
      "execution_count": null,
      "outputs": []
    },
    {
      "cell_type": "code",
      "metadata": {
        "id": "cb1Fik4G6Wdy"
      },
      "source": [
        "print(kmer_reduced_dict[equivalent_kmers[100][0]] == kmer_reduced_dict[equivalent_kmers[100][1]])"
      ],
      "execution_count": null,
      "outputs": []
    },
    {
      "cell_type": "code",
      "metadata": {
        "id": "0G2ZQhZ3AS5z"
      },
      "source": [
        "final_X = np.zeros((seq_no, len(equivalent_kmers)))"
      ],
      "execution_count": null,
      "outputs": []
    },
    {
      "cell_type": "code",
      "metadata": {
        "id": "sUlg5l84AnBH"
      },
      "source": [
        "for i in range(len(equivalent_kmers)):\n",
        "  for j in kmer_reduced_dict[equivalent_kmers[i][0]]:\n",
        "    final_X[j][i] = 1"
      ],
      "execution_count": null,
      "outputs": []
    },
    {
      "cell_type": "code",
      "metadata": {
        "id": "UeZ93OGdBxa0"
      },
      "source": [
        "np.save(dir+'X.npy', final_X)"
      ],
      "execution_count": null,
      "outputs": []
    },
    {
      "cell_type": "code",
      "metadata": {
        "id": "G8j0u6DKHnVh"
      },
      "source": [
        "y_list = [0]*sus_no + [1]* res_no"
      ],
      "execution_count": null,
      "outputs": []
    },
    {
      "cell_type": "code",
      "metadata": {
        "id": "fXiZHNbGHqE0"
      },
      "source": [
        "np.save(dir+'Y.npy', np.array(y_list))"
      ],
      "execution_count": null,
      "outputs": []
    },
    {
      "cell_type": "code",
      "metadata": {
        "id": "EZmuiF-xCDpo"
      },
      "source": [
        "np.save(dir+'equivalent_kmers.npy', np.array(equivalent_kmers))"
      ],
      "execution_count": null,
      "outputs": []
    },
    {
      "cell_type": "markdown",
      "metadata": {
        "id": "k9CnlTTTDA27"
      },
      "source": [
        "Testing whether it worked\n"
      ]
    },
    {
      "cell_type": "code",
      "metadata": {
        "id": "te5Q1FIkknt_"
      },
      "source": [
        "X = np.load(dir+'X.npy')"
      ],
      "execution_count": null,
      "outputs": []
    },
    {
      "cell_type": "code",
      "metadata": {
        "id": "r7DCwJqaDAC2"
      },
      "source": [
        "X.shape"
      ],
      "execution_count": null,
      "outputs": []
    },
    {
      "cell_type": "code",
      "metadata": {
        "id": "sQf2TU5RDD4D"
      },
      "source": [
        "Y = np.load(dir+'Y.npy')"
      ],
      "execution_count": null,
      "outputs": []
    },
    {
      "cell_type": "code",
      "metadata": {
        "id": "crGmpe5GDGV9"
      },
      "source": [
        "Y"
      ],
      "execution_count": null,
      "outputs": []
    },
    {
      "cell_type": "code",
      "metadata": {
        "id": "dhCfxGjODGuZ"
      },
      "source": [
        "e_kmers = np.load(dir+'equivalent_kmers.npy', allow_pickle = True)"
      ],
      "execution_count": null,
      "outputs": []
    },
    {
      "cell_type": "code",
      "metadata": {
        "id": "9h9K2WfjDLiH"
      },
      "source": [
        "e_kmers"
      ],
      "execution_count": null,
      "outputs": []
    },
    {
      "cell_type": "code",
      "metadata": {
        "id": "qK-u1eIdDUL6"
      },
      "source": [
        "len(list(e_kmers))"
      ],
      "execution_count": null,
      "outputs": []
    },
    {
      "cell_type": "code",
      "metadata": {
        "id": "hW79144tjE5B"
      },
      "source": [
        ""
      ],
      "execution_count": null,
      "outputs": []
    }
  ]
}