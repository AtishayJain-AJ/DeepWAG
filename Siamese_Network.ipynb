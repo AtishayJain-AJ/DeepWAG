{
  "nbformat": 4,
  "nbformat_minor": 0,
  "metadata": {
    "colab": {
      "name": "Siamese Network.ipynb",
      "provenance": [],
      "collapsed_sections": [],
      "mount_file_id": "147KDtieTh41raG3WUTrMmNr4dxT5gqCD",
      "authorship_tag": "ABX9TyOivYEvzxKEvGQejOkzOK5W",
      "include_colab_link": true
    },
    "kernelspec": {
      "name": "python3",
      "display_name": "Python 3"
    }
  },
  "cells": [
    {
      "cell_type": "markdown",
      "metadata": {
        "id": "view-in-github",
        "colab_type": "text"
      },
      "source": [
        "<a href=\"https://colab.research.google.com/github/AtishayJain-AJ/DeepWAG/blob/master/Siamese_Network.ipynb\" target=\"_parent\"><img src=\"https://colab.research.google.com/assets/colab-badge.svg\" alt=\"Open In Colab\"/></a>"
      ]
    },
    {
      "cell_type": "code",
      "metadata": {
        "id": "14zIyKMMrSzp"
      },
      "source": [
        "\n",
        "\n",
        "import torch\n",
        "from torch.optim import lr_scheduler\n",
        "import torch.optim as optim\n",
        "from torch.autograd import Variable\n",
        "\n",
        "import numpy as np\n",
        "import pickle\n",
        "cuda = torch.cuda.is_available()\n",
        "\n",
        "%matplotlib inline\n",
        "import matplotlib\n",
        "import matplotlib.pyplot as plt\n",
        "\n",
        "from torch.utils.data import Dataset\n",
        "from torch.utils.data.sampler import BatchSampler"
      ],
      "execution_count": 15,
      "outputs": []
    },
    {
      "cell_type": "code",
      "metadata": {
        "colab": {
          "base_uri": "https://localhost:8080/"
        },
        "id": "orWgz7rDr-JC",
        "outputId": "b1dfe8a6-04b1-4c3d-f8cd-b9c31c1feb8a"
      },
      "source": [
        "cuda\n"
      ],
      "execution_count": null,
      "outputs": [
        {
          "output_type": "execute_result",
          "data": {
            "text/plain": [
              "False"
            ]
          },
          "metadata": {
            "tags": []
          },
          "execution_count": 3
        }
      ]
    },
    {
      "cell_type": "code",
      "metadata": {
        "id": "NnlQ0-iQsEuM"
      },
      "source": [
        "import torch.nn as nn\n",
        "import torch.nn.functional as F\n",
        "class TripletLoss(nn.Module):\n",
        "    \"\"\"\n",
        "    Triplet loss\n",
        "    Takes embeddings of an anchor sample, a positive sample and a negative sample\n",
        "    \"\"\"\n",
        "\n",
        "    def __init__(self, margin):\n",
        "        super(TripletLoss, self).__init__()\n",
        "        self.margin = margin\n",
        "\n",
        "    def forward(self, anchor, positive, negative, size_average=True):\n",
        "        distance_positive = (anchor - positive).pow(2).sum(1)  # .pow(.5)\n",
        "        distance_negative = (anchor - negative).pow(2).sum(1)  # .pow(.5)\n",
        "        losses = F.relu(distance_positive - distance_negative + self.margin)\n",
        "        return losses.mean() if size_average else losses.sum()\n"
      ],
      "execution_count": 11,
      "outputs": []
    },
    {
      "cell_type": "code",
      "metadata": {
        "id": "mEl73cHotMfU"
      },
      "source": [
        "##MODEL\n",
        "\n",
        "class EmbeddingNet(nn.Module):\n",
        "    def __init__(self):\n",
        "        super(EmbeddingNet, self).__init__()\n",
        "        \"\"\"self.convnet = nn.Sequential(nn.Conv2d(1, 32, 5), nn.PReLU(),\n",
        "                                     nn.MaxPool2d(2, stride=2),\n",
        "                                     nn.Conv2d(32, 64, 5), nn.PReLU(),\n",
        "                                     nn.MaxPool2d(2, stride=2))\"\"\"\n",
        "\n",
        "        self.fc = nn.Sequential(nn.Linear(103954, 512),\n",
        "                                nn.PReLU(),\n",
        "                                nn.Linear(512, 256),\n",
        "                                nn.PReLU(),\n",
        "                                nn.Linear(256, 256),\n",
        "                                nn.PReLU(),\n",
        "                                nn.Linear(256, 2)\n",
        "                                )\n",
        "\n",
        "    def forward(self, x):\n",
        "        #output = self.convnet(x)\n",
        "        #output = output.view(output.size()[0], -1)\n",
        "        x = x.float()\n",
        "        output = self.fc(x)\n",
        "        output = output.float()\n",
        "        return output\n",
        "\n",
        "    def get_embedding(self, x):\n",
        "        return self.forward(x)\n",
        "\n",
        "\n",
        "class TripletNet(nn.Module):\n",
        "    def __init__(self, embedding_net):\n",
        "        super(TripletNet, self).__init__()\n",
        "        self.embedding_net = embedding_net\n",
        "\n",
        "    def forward(self, x1, x2, x3):\n",
        "        output1 = self.embedding_net(x1).float()\n",
        "        output2 = self.embedding_net(x2).float()\n",
        "        output3 = self.embedding_net(x3).float()\n",
        "        return output1, output2, output3\n",
        "\n",
        "    def get_embedding(self, x):\n",
        "        return self.embedding_net(x)"
      ],
      "execution_count": 117,
      "outputs": []
    },
    {
      "cell_type": "code",
      "metadata": {
        "id": "vtW4i77CttwD"
      },
      "source": [
        "def fit(train_loader, val_loader, model, loss_fn, optimizer, scheduler, n_epochs, cuda, log_interval, metrics=[],\n",
        "        start_epoch=0):\n",
        "    \"\"\"\n",
        "    Loaders, model, loss function and metrics should work together for a given task,\n",
        "    i.e. The model should be able to process data output of loaders,\n",
        "    loss function should process target output of loaders and outputs from the model\n",
        "    Examples: Classification: batch loader, classification model, NLL loss, accuracy metric\n",
        "    Siamese network: Siamese loader, siamese model, contrastive loss\n",
        "    Online triplet learning: batch loader, embedding model, online triplet loss\n",
        "    \"\"\"\n",
        "    for epoch in range(0, start_epoch):\n",
        "        scheduler.step()\n",
        "\n",
        "    for epoch in range(start_epoch, n_epochs):\n",
        "        scheduler.step()\n",
        "\n",
        "        # Train stage\n",
        "        train_loss, metrics = train_epoch(train_loader, model, loss_fn, optimizer, cuda, log_interval, metrics)\n",
        "\n",
        "        message = 'Epoch: {}/{}. Train set: Average loss: {:.4f}'.format(epoch + 1, n_epochs, train_loss)\n",
        "        for metric in metrics:\n",
        "            message += '\\t{}: {}'.format(metric.name(), metric.value())\n",
        "\n",
        "        val_loss, metrics = test_epoch(val_loader, model, loss_fn, cuda, metrics)\n",
        "        val_loss /= len(val_loader)\n",
        "\n",
        "        message += '\\nEpoch: {}/{}. Validation set: Average loss: {:.4f}'.format(epoch + 1, n_epochs,\n",
        "                                                                                 val_loss)\n",
        "        for metric in metrics:\n",
        "            message += '\\t{}: {}'.format(metric.name(), metric.value())\n",
        "\n",
        "        print(message)\n",
        "\n",
        "\n",
        "def train_epoch(train_loader, model, loss_fn, optimizer, cuda, log_interval, metrics):\n",
        "    for metric in metrics:\n",
        "        metric.reset()\n",
        "\n",
        "    model.train()\n",
        "    losses = []\n",
        "    total_loss = 0\n",
        "\n",
        "    for batch_idx, (data, target) in enumerate(train_loader):\n",
        "        target = target if len(target) > 0 else None\n",
        "        if not type(data) in (tuple, list):\n",
        "            data = (data,)\n",
        "        if cuda:\n",
        "            data = tuple(d.cuda() for d in data)\n",
        "            if target is not None:\n",
        "                target = target.cuda()\n",
        "\n",
        "\n",
        "        optimizer.zero_grad()\n",
        "        outputs = model(*data)\n",
        "\n",
        "        if type(outputs) not in (tuple, list):\n",
        "            outputs = (outputs,)\n",
        "\n",
        "        loss_inputs = outputs\n",
        "        if target is not None:\n",
        "            target = (target,)\n",
        "            loss_inputs += target\n",
        "\n",
        "        loss_outputs = loss_fn(*loss_inputs)\n",
        "        loss = loss_outputs[0] if type(loss_outputs) in (tuple, list) else loss_outputs\n",
        "        losses.append(loss.item())\n",
        "        total_loss += loss.item()\n",
        "        loss.backward()\n",
        "        optimizer.step()\n",
        "\n",
        "        for metric in metrics:\n",
        "            metric(outputs, target, loss_outputs)\n",
        "\n",
        "        if batch_idx % log_interval == 0:\n",
        "            message = 'Train: [{}/{} ({:.0f}%)]\\tLoss: {:.6f}'.format(\n",
        "                batch_idx * len(data[0]), len(train_loader.dataset),\n",
        "                100. * batch_idx / len(train_loader), np.mean(losses))\n",
        "            for metric in metrics:\n",
        "                message += '\\t{}: {}'.format(metric.name(), metric.value())\n",
        "\n",
        "            print(message)\n",
        "            losses = []\n",
        "\n",
        "    total_loss /= (batch_idx + 1)\n",
        "    return total_loss, metrics\n",
        "\n",
        "\n",
        "def test_epoch(val_loader, model, loss_fn, cuda, metrics):\n",
        "    with torch.no_grad():\n",
        "        for metric in metrics:\n",
        "            metric.reset()\n",
        "        model.eval()\n",
        "        val_loss = 0\n",
        "        for batch_idx, (data, target) in enumerate(val_loader):\n",
        "            target = target if len(target) > 0 else None\n",
        "            if not type(data) in (tuple, list):\n",
        "                data = (data,)\n",
        "            if cuda:\n",
        "                data = tuple(d.cuda() for d in data)\n",
        "                if target is not None:\n",
        "                    target = target.cuda()\n",
        "\n",
        "            outputs = model(*data)\n",
        "\n",
        "            if type(outputs) not in (tuple, list):\n",
        "                outputs = (outputs,)\n",
        "            loss_inputs = outputs\n",
        "            if target is not None:\n",
        "                target = (target,)\n",
        "                loss_inputs += target\n",
        "\n",
        "            loss_outputs = loss_fn(*loss_inputs)\n",
        "            loss = loss_outputs[0] if type(loss_outputs) in (tuple, list) else loss_outputs\n",
        "            val_loss += loss.item()\n",
        "\n",
        "            for metric in metrics:\n",
        "                metric(outputs, target, loss_outputs)\n",
        "\n",
        "    return val_loss, metrics"
      ],
      "execution_count": 13,
      "outputs": []
    },
    {
      "cell_type": "code",
      "metadata": {
        "id": "xTx-wl13uAtj"
      },
      "source": [
        "class TripletMNIST(Dataset):\n",
        "    \"\"\"\n",
        "    Train: For each sample (anchor) randomly chooses a positive and negative samples\n",
        "    Test: Creates fixed triplets for testing\n",
        "    \"\"\"\n",
        "\n",
        "    def __init__(self, dataset, train):\n",
        "        self.dataset =  dataset\n",
        "        self.train = train\n",
        "\n",
        "        if self.train:\n",
        "            self.train_labels = self.dataset[:,0]\n",
        "            self.train_data = self.dataset[:,1:]\n",
        "            self.labels_set = set(self.train_labels)\n",
        "            self.label_to_indices = {label: np.where(self.train_labels == label)[0]\n",
        "                                     for label in self.labels_set}\n",
        "\n",
        "        else:\n",
        "            self.test_labels = self.dataset[:,0]\n",
        "            self.test_data = self.dataset[:,1:]\n",
        "            # generate fixed triplets for testing\n",
        "            self.labels_set = set(self.test_labels)\n",
        "            self.label_to_indices = {label: np.where(self.test_labels == label)[0]\n",
        "                                     for label in self.labels_set}\n",
        "\n",
        "            random_state = np.random.RandomState(29)\n",
        "\n",
        "            triplets = [[i,\n",
        "                         random_state.choice(self.label_to_indices[self.test_labels[i].item()]),\n",
        "                         random_state.choice(self.label_to_indices[\n",
        "                                                 np.random.choice(\n",
        "                                                     list(self.labels_set - set([self.test_labels[i].item()]))\n",
        "                                                 )\n",
        "                                             ])\n",
        "                         ]\n",
        "                        for i in range(len(self.test_data))]\n",
        "            self.test_triplets = triplets\n",
        "\n",
        "    def __getitem__(self, index):\n",
        "        if self.train:\n",
        "            img1, label1 = self.train_data[index], self.train_labels[index].item()\n",
        "            positive_index = index\n",
        "            while positive_index == index:\n",
        "                positive_index = np.random.choice(self.label_to_indices[label1])\n",
        "            negative_label = np.random.choice(list(self.labels_set - set([label1])))\n",
        "            negative_index = np.random.choice(self.label_to_indices[negative_label])\n",
        "            img2 = self.train_data[positive_index]\n",
        "            img3 = self.train_data[negative_index]\n",
        "        else:\n",
        "            img1 = self.test_data[self.test_triplets[index][0]]\n",
        "            img2 = self.test_data[self.test_triplets[index][1]]\n",
        "            img3 = self.test_data[self.test_triplets[index][2]]\n",
        "\n",
        "        return (img1, img2, img3), []\n",
        "\n",
        "    def __len__(self):\n",
        "        return len(self.dataset)\n"
      ],
      "execution_count": 24,
      "outputs": []
    },
    {
      "cell_type": "code",
      "metadata": {
        "id": "Z0gOgpPSrAQx"
      },
      "source": [
        "path = \"/content/drive/MyDrive/bacteria data/ofloxacin/\"\n",
        "X = np.load(path+\"X.npy\")\n",
        "Y = np.load(path+\"Y.npy\")"
      ],
      "execution_count": 105,
      "outputs": []
    },
    {
      "cell_type": "code",
      "metadata": {
        "colab": {
          "base_uri": "https://localhost:8080/"
        },
        "id": "UFd8ZtyZrZ9r",
        "outputId": "48c2b15f-f3e8-4448-cd87-8b4335b1bb4b"
      },
      "source": [
        "X.shape, Y.shape"
      ],
      "execution_count": 106,
      "outputs": [
        {
          "output_type": "execute_result",
          "data": {
            "text/plain": [
              "((856, 103954), (856,))"
            ]
          },
          "metadata": {
            "tags": []
          },
          "execution_count": 106
        }
      ]
    },
    {
      "cell_type": "code",
      "metadata": {
        "id": "ZejeduoKrV40"
      },
      "source": [
        "data = np.c_[Y,X]"
      ],
      "execution_count": 107,
      "outputs": []
    },
    {
      "cell_type": "code",
      "metadata": {
        "colab": {
          "base_uri": "https://localhost:8080/"
        },
        "id": "Xc01m1VcscUU",
        "outputId": "6ded0e99-d048-488b-d17f-4673aa66669b"
      },
      "source": [
        "data.shape"
      ],
      "execution_count": 108,
      "outputs": [
        {
          "output_type": "execute_result",
          "data": {
            "text/plain": [
              "(856, 103955)"
            ]
          },
          "metadata": {
            "tags": []
          },
          "execution_count": 108
        }
      ]
    },
    {
      "cell_type": "code",
      "metadata": {
        "id": "FGu151LTslFs"
      },
      "source": [
        "np.random.shuffle(data)"
      ],
      "execution_count": 109,
      "outputs": []
    },
    {
      "cell_type": "code",
      "metadata": {
        "colab": {
          "base_uri": "https://localhost:8080/"
        },
        "id": "R8wRYxqNt2sC",
        "outputId": "3773a48b-81e8-448f-f1ee-8ab67fadaecb"
      },
      "source": [
        "data"
      ],
      "execution_count": 18,
      "outputs": [
        {
          "output_type": "execute_result",
          "data": {
            "text/plain": [
              "array([[ 1.,  0.,  0., ...,  1.,  1.,  1.],\n",
              "       [-1.,  0.,  0., ...,  0.,  0.,  0.],\n",
              "       [-1.,  0.,  0., ...,  0.,  0.,  0.],\n",
              "       ...,\n",
              "       [ 1.,  0.,  0., ...,  0.,  0.,  0.],\n",
              "       [-1.,  0.,  0., ...,  0.,  0.,  0.],\n",
              "       [ 1.,  0.,  0., ...,  1.,  0.,  0.]])"
            ]
          },
          "metadata": {
            "tags": []
          },
          "execution_count": 18
        }
      ]
    },
    {
      "cell_type": "code",
      "metadata": {
        "id": "wZbvRph1tLTA"
      },
      "source": [
        "n_samples = data.shape[0]\n",
        "num_train = round(n_samples * 0.4)\n",
        "num_val = round(n_samples * 0.2)\n",
        "train_dataset = data[:num_train]\n",
        "val_dataset = data[num_train:num_train+num_val]\n",
        "test_dataset = data[num_val+num_train:]"
      ],
      "execution_count": 110,
      "outputs": []
    },
    {
      "cell_type": "code",
      "metadata": {
        "colab": {
          "base_uri": "https://localhost:8080/"
        },
        "id": "n6nbbdo6t9HX",
        "outputId": "cbc4e4ed-1ea7-47bb-ad78-a6722540e3d1"
      },
      "source": [
        "train_dataset.shape, val_dataset.shape, test_dataset.shape"
      ],
      "execution_count": 111,
      "outputs": [
        {
          "output_type": "execute_result",
          "data": {
            "text/plain": [
              "((342, 103955), (171, 103955), (343, 103955))"
            ]
          },
          "metadata": {
            "tags": []
          },
          "execution_count": 111
        }
      ]
    },
    {
      "cell_type": "code",
      "metadata": {
        "id": "9-KgC36QqYW9"
      },
      "source": [
        "triplet_train_dataset = TripletMNIST(train_dataset, True) # Returns triplets of images\n",
        "triplet_val_dataset = TripletMNIST(val_dataset, False)\n",
        "batch_size = 571\n",
        "kwargs = {'num_workers': 1, 'pin_memory': True} if cuda else {}\n",
        "triplet_train_loader = torch.utils.data.DataLoader(triplet_train_dataset, batch_size=batch_size, shuffle=True, **kwargs)\n",
        "triplet_val_loader = torch.utils.data.DataLoader(triplet_val_dataset, batch_size=batch_size, shuffle=False, **kwargs)\n",
        "\n",
        "# Set up the network and training parameters\n",
        "#from networks import EmbeddingNet, TripletNet\n",
        "#from losses import TripletLoss\n",
        "\n",
        "## HYPERPARAMETERS\n",
        "margin = 1.\n",
        "embedding_net = EmbeddingNet()\n",
        "model = TripletNet(embedding_net)\n",
        "model = model.float()\n",
        "if cuda:\n",
        "    model.cuda()\n",
        "loss_fn = TripletLoss(margin)\n",
        "lr = 1e-3\n",
        "optimizer = optim.Adam(model.parameters(), lr=lr)\n",
        "scheduler = lr_scheduler.StepLR(optimizer, 8, gamma=0.1, last_epoch=-1)\n",
        "n_epochs = 50\n",
        "log_interval = 100"
      ],
      "execution_count": 118,
      "outputs": []
    },
    {
      "cell_type": "code",
      "metadata": {
        "id": "NusuKx2Rxkqy"
      },
      "source": [
        "train_loader = torch.utils.data.DataLoader(train_dataset, batch_size=batch_size, shuffle=True, **kwargs)\n",
        "val_loader = torch.utils.data.DataLoader(val_dataset, batch_size=batch_size, shuffle=False, **kwargs)"
      ],
      "execution_count": 119,
      "outputs": []
    },
    {
      "cell_type": "code",
      "metadata": {
        "colab": {
          "base_uri": "https://localhost:8080/"
        },
        "id": "AoCgIgcjq_L6",
        "outputId": "9ad943d9-fac9-43d8-ef47-38b085e7a91e"
      },
      "source": [
        "\n",
        "fit(triplet_train_loader, triplet_val_loader, model, loss_fn, optimizer, scheduler, n_epochs, cuda, log_interval)"
      ],
      "execution_count": null,
      "outputs": [
        {
          "output_type": "stream",
          "text": [
            "/usr/local/lib/python3.6/dist-packages/torch/optim/lr_scheduler.py:136: UserWarning: Detected call of `lr_scheduler.step()` before `optimizer.step()`. In PyTorch 1.1.0 and later, you should call them in the opposite order: `optimizer.step()` before `lr_scheduler.step()`.  Failure to do this will result in PyTorch skipping the first value of the learning rate schedule. See more details at https://pytorch.org/docs/stable/optim.html#how-to-adjust-learning-rate\n",
            "  \"https://pytorch.org/docs/stable/optim.html#how-to-adjust-learning-rate\", UserWarning)\n"
          ],
          "name": "stderr"
        },
        {
          "output_type": "stream",
          "text": [
            "Train: [0/342 (0%)]\tLoss: 1.000028\n",
            "Epoch: 1/50. Train set: Average loss: 1.0000\n",
            "Epoch: 1/50. Validation set: Average loss: 12.6565\n",
            "Train: [0/342 (0%)]\tLoss: 10.557985\n",
            "Epoch: 2/50. Train set: Average loss: 10.5580\n",
            "Epoch: 2/50. Validation set: Average loss: 76.4536\n",
            "Train: [0/342 (0%)]\tLoss: 83.174545\n",
            "Epoch: 3/50. Train set: Average loss: 83.1745\n",
            "Epoch: 3/50. Validation set: Average loss: 21.8587\n",
            "Train: [0/342 (0%)]\tLoss: 26.034023\n",
            "Epoch: 4/50. Train set: Average loss: 26.0340\n",
            "Epoch: 4/50. Validation set: Average loss: 5.6123\n",
            "Train: [0/342 (0%)]\tLoss: 3.173809\n",
            "Epoch: 5/50. Train set: Average loss: 3.1738\n",
            "Epoch: 5/50. Validation set: Average loss: 19.7628\n",
            "Train: [0/342 (0%)]\tLoss: 21.291525\n",
            "Epoch: 6/50. Train set: Average loss: 21.2915\n",
            "Epoch: 6/50. Validation set: Average loss: 4.4397\n",
            "Train: [0/342 (0%)]\tLoss: 4.857225\n",
            "Epoch: 7/50. Train set: Average loss: 4.8572\n",
            "Epoch: 7/50. Validation set: Average loss: 7.4895\n",
            "Train: [0/342 (0%)]\tLoss: 8.850343\n",
            "Epoch: 8/50. Train set: Average loss: 8.8503\n",
            "Epoch: 8/50. Validation set: Average loss: 5.9524\n",
            "Train: [0/342 (0%)]\tLoss: 9.489295\n",
            "Epoch: 9/50. Train set: Average loss: 9.4893\n",
            "Epoch: 9/50. Validation set: Average loss: 3.2238\n",
            "Train: [0/342 (0%)]\tLoss: 3.721707\n",
            "Epoch: 10/50. Train set: Average loss: 3.7217\n",
            "Epoch: 10/50. Validation set: Average loss: 1.4606\n",
            "Train: [0/342 (0%)]\tLoss: 1.649289\n",
            "Epoch: 11/50. Train set: Average loss: 1.6493\n",
            "Epoch: 11/50. Validation set: Average loss: 1.1660\n",
            "Train: [0/342 (0%)]\tLoss: 1.102246\n",
            "Epoch: 12/50. Train set: Average loss: 1.1022\n",
            "Epoch: 12/50. Validation set: Average loss: 1.4651\n",
            "Train: [0/342 (0%)]\tLoss: 1.394482\n",
            "Epoch: 13/50. Train set: Average loss: 1.3945\n",
            "Epoch: 13/50. Validation set: Average loss: 2.3449\n",
            "Train: [0/342 (0%)]\tLoss: 2.755900\n",
            "Epoch: 14/50. Train set: Average loss: 2.7559\n",
            "Epoch: 14/50. Validation set: Average loss: 2.9956\n",
            "Train: [0/342 (0%)]\tLoss: 3.041902\n",
            "Epoch: 15/50. Train set: Average loss: 3.0419\n",
            "Epoch: 15/50. Validation set: Average loss: 3.0713\n",
            "Train: [0/342 (0%)]\tLoss: 3.436033\n",
            "Epoch: 16/50. Train set: Average loss: 3.4360\n",
            "Epoch: 16/50. Validation set: Average loss: 3.0164\n",
            "Train: [0/342 (0%)]\tLoss: 3.509906\n",
            "Epoch: 17/50. Train set: Average loss: 3.5099\n",
            "Epoch: 17/50. Validation set: Average loss: 2.9081\n",
            "Train: [0/342 (0%)]\tLoss: 3.015925\n",
            "Epoch: 18/50. Train set: Average loss: 3.0159\n",
            "Epoch: 18/50. Validation set: Average loss: 2.7652\n"
          ],
          "name": "stdout"
        }
      ]
    },
    {
      "cell_type": "code",
      "metadata": {
        "id": "pr449AdWuTVx"
      },
      "source": [
        "mnist_classes = ['0', '1']\n",
        "class_no = [-1,1]\n",
        "colors = ['#1f77b4', '#ff7f0e']\n",
        "\n",
        "def plot_embeddings(embeddings, targets, xlim=None, ylim=None):\n",
        "    plt.figure(figsize=(10,10))\n",
        "    for i in range(2):\n",
        "        inds = np.where(targets==class_no[i])[0]\n",
        "        plt.scatter(embeddings[inds,0], embeddings[inds,1], alpha=0.5, color=colors[i])\n",
        "    if xlim:\n",
        "        plt.xlim(xlim[0], xlim[1])\n",
        "    if ylim:\n",
        "        plt.ylim(ylim[0], ylim[1])\n",
        "    plt.legend(mnist_classes)\n",
        "\n",
        "def extract_embeddings(dataloader, model):\n",
        "    with torch.no_grad():\n",
        "        model.eval()\n",
        "        embeddings = np.zeros((len(dataloader.dataset), 2))\n",
        "        labels = np.zeros(len(dataloader.dataset))\n",
        "        k = 0\n",
        "        for i in dataloader:\n",
        "            \n",
        "            target = i[:, 0]\n",
        "            images = i[:, 1:]\n",
        "            if cuda:\n",
        "                images = images.cuda()\n",
        "            embeddings[k:k+len(images)] = model.get_embedding(images).data.cpu().numpy()\n",
        "            labels[k:k+len(images)] = target.numpy()\n",
        "            k += len(images)\n",
        "    return embeddings, labels"
      ],
      "execution_count": 103,
      "outputs": []
    },
    {
      "cell_type": "code",
      "metadata": {
        "colab": {
          "base_uri": "https://localhost:8080/",
          "height": 1000
        },
        "id": "dh-O6igexQ1N",
        "outputId": "e71f23cc-d879-4d38-ea8e-86027c45954b"
      },
      "source": [
        "train_embeddings_tl, train_labels_tl = extract_embeddings(train_loader, model)\n",
        "plot_embeddings(train_embeddings_tl, train_labels_tl)\n",
        "val_embeddings_tl, val_labels_tl = extract_embeddings(val_loader, model)\n",
        "plot_embeddings(val_embeddings_tl, val_labels_tl)"
      ],
      "execution_count": 104,
      "outputs": [
        {
          "output_type": "display_data",
          "data": {
            "image/png": "[encoded data removed]",
            "text/plain": [
              "<Figure size 720x720 with 1 Axes>"
            ]
          },
          "metadata": {
            "tags": [],
            "needs_background": "light"
          }
        },
        {
          "output_type": "display_data",
          "data": {
            "image/png": "[encoded data removed]",
            "text/plain": [
              "<Figure size 720x720 with 1 Axes>"
            ]
          },
          "metadata": {
            "tags": [],
            "needs_background": "light"
          }
        }
      ]
    },
    {
      "cell_type": "code",
      "metadata": {
        "id": "znCs3PEIx-tX"
      },
      "source": [
        ""
      ],
      "execution_count": null,
      "outputs": []
    }
  ]
}